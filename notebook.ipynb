{
 "cells": [
  {
   "attachments": {},
   "cell_type": "markdown",
   "metadata": {},
   "source": [
    "# 1. Business Understanding"
   ]
  },
  {
   "attachments": {},
   "cell_type": "markdown",
   "metadata": {},
   "source": [
    "### 1.1 Overview\n",
    "Immunization is an essential, cost-effective strategy to reduce childhood morbidity and mortality which saves an estimated 2 to 3 million lives each year. In their 2018 Strategy for Immunization and PHC System Strengthening, Nigeria committed to investing in strengthening immunization service delivery, expanding cold chain capacity, improving data quality, introducing new vaccines and addressing significant risk of vaccine-preventable diseases including measles, yellow fever and meningitis over the Gavi transition period 2018 – 2028.\n",
    "In 2017, routine immunization was declared a Public Health Concern, which led to operationalizing the National Emergency Routine Immunization Coordination Centres (NERICC) in low performing states and LGAs. \n",
    "\n",
    "#### 1.2 Objective\n",
    "The objective of this data science project is to analyze and derive insights from the vaccination rates of children aged 12-23 months against preventable childhood diseases in Nigeria."
   ]
  },
  {
   "attachments": {},
   "cell_type": "markdown",
   "metadata": {},
   "source": [
    "# 2. Data Understanding"
   ]
  },
  {
   "attachments": {},
   "cell_type": "markdown",
   "metadata": {},
   "source": [
    "This data was collected from the National Nutrition and Health Survey conducted in 37\n",
    "domains, 36 states and Federal Capital Territory (FCT) between February 19 and June 2, 2018. The data will be extracted from the [opendataAfrica website](https://africaopendata.org/dataset/vaccination_coverage_2018/resource/e2bcc139-4c7a-4096-945b-912a0f8b5385), an API is provided to extract the data for an analysis. \n",
    "The data includes information about the states in Nigeria, the types of vaccine administered and the total percentage of children immunized.\n",
    "\n",
    "This phase is broken down into four task that include;\n",
    "* Collection of the Initial Data\n",
    "* Data Description\n",
    "* Data Cleaning\n",
    "* Exploratory Data Analysis\n"
   ]
  },
  {
   "attachments": {},
   "cell_type": "markdown",
   "metadata": {},
   "source": [
    "### 2.1 Data Overview"
   ]
  },
  {
   "attachments": {},
   "cell_type": "markdown",
   "metadata": {},
   "source": [
    "#### 2.1.1 Loading the dataset"
   ]
  },
  {
   "cell_type": "code",
   "execution_count": 28,
   "metadata": {},
   "outputs": [],
   "source": [
    "#import the necessary libraries\n",
    "## Libraries for loading the dataset\n",
    "import requests\n",
    "import json\n",
    "## FOr data analysis and preparation\n",
    "import pandas as pd\n",
    "import numpy as np\n",
    "## For data visualisation\n",
    "# For data visualization\n",
    "import matplotlib.pyplot as plt\n",
    "import seaborn as sns\n",
    "%matplotlib inline\n"
   ]
  },
  {
   "cell_type": "code",
   "execution_count": 2,
   "metadata": {},
   "outputs": [
    {
     "name": "stdout",
     "output_type": "stream",
     "text": [
      "    state  vaccine  total\n",
      "_id                      \n",
      "1    Abia      Any   95.5\n",
      "2    Abia  Measles   86.4\n",
      "3    Abia  Penta 1   95.5\n",
      "4    Abia  Penta 2   90.9\n",
      "5    Abia  Penta 3   86.4\n",
      "..    ...      ...    ...\n",
      "96   Kano      Any   63.3\n",
      "97   Kano  Measles   49.0\n",
      "98   Kano  Penta 1   55.1\n",
      "99   Kano  Penta 2   47.6\n",
      "100  Kano  Penta 3   36.1\n",
      "\n",
      "[100 rows x 3 columns]\n"
     ]
    }
   ],
   "source": [
    "# Define the URL to access the data\n",
    "url = 'https://openafrica.net/api/3/action/datastore_search?resource_id=e2bcc139-4c7a-4096-945b-912a0f8b5385'\n",
    "\n",
    "# Send a GET request to the URL and retrieve the response\n",
    "response = requests.get(url)\n",
    "\n",
    "# Extract the JSON data from the response\n",
    "data = response.json()\n",
    "\n",
    "# Extract the records from the JSON data\n",
    "records = data['result']['records']\n",
    "\n",
    "# Create a DataFrame from the records\n",
    "df = pd.DataFrame(records)\n",
    "print(df.set_index('_id'))"
   ]
  },
  {
   "cell_type": "code",
   "execution_count": 3,
   "metadata": {},
   "outputs": [
    {
     "name": "stdout",
     "output_type": "stream",
     "text": [
      "<class 'pandas.core.frame.DataFrame'>\n",
      "RangeIndex: 100 entries, 0 to 99\n",
      "Data columns (total 4 columns):\n",
      " #   Column   Non-Null Count  Dtype  \n",
      "---  ------   --------------  -----  \n",
      " 0   _id      100 non-null    int64  \n",
      " 1   state    100 non-null    object \n",
      " 2   vaccine  100 non-null    object \n",
      " 3   total    100 non-null    float64\n",
      "dtypes: float64(1), int64(1), object(2)\n",
      "memory usage: 3.2+ KB\n"
     ]
    }
   ],
   "source": [
    "## Checking the information about the dataframe\n",
    "df.info()"
   ]
  },
  {
   "attachments": {},
   "cell_type": "markdown",
   "metadata": {},
   "source": [
    "From checking the summary information about the dataset, the dataframe has 4 columns and 100 rows."
   ]
  },
  {
   "cell_type": "code",
   "execution_count": 4,
   "metadata": {},
   "outputs": [
    {
     "data": {
      "text/plain": [
       "_id          int64\n",
       "state       object\n",
       "vaccine     object\n",
       "total      float64\n",
       "dtype: object"
      ]
     },
     "execution_count": 4,
     "metadata": {},
     "output_type": "execute_result"
    }
   ],
   "source": [
    "#Checking the names of the columns and their types in the dataframe\n",
    "df.columns\n",
    "df.dtypes"
   ]
  },
  {
   "attachments": {},
   "cell_type": "markdown",
   "metadata": {},
   "source": [
    "From the above information, we can see that we have two categorical; 'state' and 'vaccine' and one categorical columns; 'total'"
   ]
  },
  {
   "cell_type": "code",
   "execution_count": 5,
   "metadata": {},
   "outputs": [
    {
     "data": {
      "text/html": [
       "<div>\n",
       "<style scoped>\n",
       "    .dataframe tbody tr th:only-of-type {\n",
       "        vertical-align: middle;\n",
       "    }\n",
       "\n",
       "    .dataframe tbody tr th {\n",
       "        vertical-align: top;\n",
       "    }\n",
       "\n",
       "    .dataframe thead th {\n",
       "        text-align: right;\n",
       "    }\n",
       "</style>\n",
       "<table border=\"1\" class=\"dataframe\">\n",
       "  <thead>\n",
       "    <tr style=\"text-align: right;\">\n",
       "      <th></th>\n",
       "      <th>_id</th>\n",
       "      <th>total</th>\n",
       "    </tr>\n",
       "  </thead>\n",
       "  <tbody>\n",
       "    <tr>\n",
       "      <th>count</th>\n",
       "      <td>100.000000</td>\n",
       "      <td>100.000000</td>\n",
       "    </tr>\n",
       "    <tr>\n",
       "      <th>mean</th>\n",
       "      <td>50.500000</td>\n",
       "      <td>73.615000</td>\n",
       "    </tr>\n",
       "    <tr>\n",
       "      <th>std</th>\n",
       "      <td>29.011492</td>\n",
       "      <td>17.403404</td>\n",
       "    </tr>\n",
       "    <tr>\n",
       "      <th>min</th>\n",
       "      <td>1.000000</td>\n",
       "      <td>36.100000</td>\n",
       "    </tr>\n",
       "    <tr>\n",
       "      <th>25%</th>\n",
       "      <td>25.750000</td>\n",
       "      <td>59.275000</td>\n",
       "    </tr>\n",
       "    <tr>\n",
       "      <th>50%</th>\n",
       "      <td>50.500000</td>\n",
       "      <td>79.700000</td>\n",
       "    </tr>\n",
       "    <tr>\n",
       "      <th>75%</th>\n",
       "      <td>75.250000</td>\n",
       "      <td>87.875000</td>\n",
       "    </tr>\n",
       "    <tr>\n",
       "      <th>max</th>\n",
       "      <td>100.000000</td>\n",
       "      <td>98.500000</td>\n",
       "    </tr>\n",
       "  </tbody>\n",
       "</table>\n",
       "</div>"
      ],
      "text/plain": [
       "              _id       total\n",
       "count  100.000000  100.000000\n",
       "mean    50.500000   73.615000\n",
       "std     29.011492   17.403404\n",
       "min      1.000000   36.100000\n",
       "25%     25.750000   59.275000\n",
       "50%     50.500000   79.700000\n",
       "75%     75.250000   87.875000\n",
       "max    100.000000   98.500000"
      ]
     },
     "execution_count": 5,
     "metadata": {},
     "output_type": "execute_result"
    }
   ],
   "source": [
    "#Let's have a look at the descriptive statistics of the numerical columns\n",
    "df.describe()"
   ]
  },
  {
   "attachments": {},
   "cell_type": "markdown",
   "metadata": {},
   "source": [
    "From the numerical analysis of the numerical dtypes above;\n",
    "\n",
    "* The minimum and maximum proportion of vaccinated children is 36 and 98.\n",
    "* The mean and the median values are almost the same. "
   ]
  },
  {
   "cell_type": "code",
   "execution_count": 6,
   "metadata": {},
   "outputs": [
    {
     "data": {
      "text/html": [
       "<div>\n",
       "<style scoped>\n",
       "    .dataframe tbody tr th:only-of-type {\n",
       "        vertical-align: middle;\n",
       "    }\n",
       "\n",
       "    .dataframe tbody tr th {\n",
       "        vertical-align: top;\n",
       "    }\n",
       "\n",
       "    .dataframe thead th {\n",
       "        text-align: right;\n",
       "    }\n",
       "</style>\n",
       "<table border=\"1\" class=\"dataframe\">\n",
       "  <thead>\n",
       "    <tr style=\"text-align: right;\">\n",
       "      <th></th>\n",
       "      <th>state</th>\n",
       "      <th>vaccine</th>\n",
       "    </tr>\n",
       "  </thead>\n",
       "  <tbody>\n",
       "    <tr>\n",
       "      <th>count</th>\n",
       "      <td>100</td>\n",
       "      <td>100</td>\n",
       "    </tr>\n",
       "    <tr>\n",
       "      <th>unique</th>\n",
       "      <td>20</td>\n",
       "      <td>5</td>\n",
       "    </tr>\n",
       "    <tr>\n",
       "      <th>top</th>\n",
       "      <td>Abia</td>\n",
       "      <td>Any</td>\n",
       "    </tr>\n",
       "    <tr>\n",
       "      <th>freq</th>\n",
       "      <td>5</td>\n",
       "      <td>20</td>\n",
       "    </tr>\n",
       "  </tbody>\n",
       "</table>\n",
       "</div>"
      ],
      "text/plain": [
       "       state vaccine\n",
       "count    100     100\n",
       "unique    20       5\n",
       "top     Abia     Any\n",
       "freq       5      20"
      ]
     },
     "execution_count": 6,
     "metadata": {},
     "output_type": "execute_result"
    }
   ],
   "source": [
    "#Checking the statistics of the columns with the dtype `object`\n",
    "df.describe(include='O')"
   ]
  },
  {
   "attachments": {},
   "cell_type": "markdown",
   "metadata": {},
   "source": [
    "We see that there are 20 unique values in the `state` column and 5 unique values in the `vaccine` column.\n",
    "The value \"Abia\" appears 5 times, making it the most frequent value in the `state` column.\n",
    "The vaccine \"Any\" was the most frequently administered counted 20 times. "
   ]
  },
  {
   "attachments": {},
   "cell_type": "markdown",
   "metadata": {},
   "source": [
    "## 2.2 Data Preparation\n",
    "This is the actual preparation of the data to allow data analysis, it involves, data cleaning and formatting to ensure the Validity, Accuracy, Completeness, Consistency and Uniformity of the Data.\n",
    "\n",
    "This will include checking for missing and duplicated values and values. "
   ]
  },
  {
   "cell_type": "code",
   "execution_count": 16,
   "metadata": {},
   "outputs": [
    {
     "data": {
      "text/plain": [
       "_id        0\n",
       "state      0\n",
       "vaccine    0\n",
       "total      0\n",
       "dtype: int64"
      ]
     },
     "execution_count": 16,
     "metadata": {},
     "output_type": "execute_result"
    }
   ],
   "source": [
    "# Checking for missing value\n",
    "df.isnull().sum()"
   ]
  },
  {
   "cell_type": "code",
   "execution_count": 17,
   "metadata": {},
   "outputs": [
    {
     "data": {
      "text/plain": [
       "0"
      ]
     },
     "execution_count": 17,
     "metadata": {},
     "output_type": "execute_result"
    }
   ],
   "source": [
    "#Checking for duplicated values in the rows \n",
    "df.duplicated().sum()"
   ]
  },
  {
   "attachments": {},
   "cell_type": "markdown",
   "metadata": {},
   "source": [
    "There are no missing values or any duplicated values in the dataset"
   ]
  },
  {
   "attachments": {},
   "cell_type": "markdown",
   "metadata": {},
   "source": [
    "Now we can go ahead and check if there are any outliers in the 'Total' column, to see if there are any abnormalities  which might influence how we explore and analyse our data. "
   ]
  },
  {
   "cell_type": "code",
   "execution_count": 22,
   "metadata": {},
   "outputs": [
    {
     "name": "stdout",
     "output_type": "stream",
     "text": [
      "number of outliers:0\n"
     ]
    }
   ],
   "source": [
    "#Defining a function to check for outliers\n",
    "def find_outliers(data):\n",
    "    q1=data.quantile(0.25)\n",
    "    q3=data.quantile(0.75)\n",
    "    IQR=q3-q1\n",
    "    outliers = data[((data<(q1-1.5*IQR)) | (data>(q3+1.5*IQR)))]\n",
    "    return outliers\n",
    "\n",
    "## Finding outliers in the `total` column\n",
    "outliers = find_outliers(df['total'])\n",
    "print(\"number of outliers:\" + str(len(outliers)))"
   ]
  },
  {
   "cell_type": "code",
   "execution_count": 30,
   "metadata": {},
   "outputs": [
    {
     "data": {
      "image/png": "[encoded data removed]",
      "text/plain": [
       "<Figure size 432x288 with 1 Axes>"
      ]
     },
     "metadata": {
      "needs_background": "light"
     },
     "output_type": "display_data"
    }
   ],
   "source": [
    "#Using a boxplot to find outliers \n",
    "fig, ax = plt.subplots()\n",
    "sns.boxplot(y = df['total'])\n",
    "ax.set_title('Total Vaccinated Boxplot')\n",
    "plt.show()"
   ]
  },
  {
   "attachments": {},
   "cell_type": "markdown",
   "metadata": {},
   "source": [
    "Phewks! There are no outliers in our data, great Now we can beginning exploring our data to get insights and achieve our objective. \n"
   ]
  },
  {
   "attachments": {},
   "cell_type": "markdown",
   "metadata": {},
   "source": [
    "## 2.3 Exploratory Data Analysis\n",
    "Here we are going to do three tasks which include;\n",
    "* Univariate Analysis\n",
    "* Bivariate Analysis\n",
    "* Multivariate Analysis\n",
    "\n",
    "#### 2.3.1 Univariate Analysis\n",
    "The purpose of the univariate analysis is to understand the distribution of values for a single variable."
   ]
  },
  {
   "cell_type": "code",
   "execution_count": 38,
   "metadata": {},
   "outputs": [
    {
     "data": {
      "image/png": "[encoded data removed]",
      "text/plain": [
       "<Figure size 432x288 with 1 Axes>"
      ]
     },
     "metadata": {
      "needs_background": "light"
     },
     "output_type": "display_data"
    }
   ],
   "source": [
    "##Visualising the `total` column\n",
    "\n",
    "n_bins= 10\n",
    "plt.hist(df['total'], bins=n_bins, edgecolor='black')\n",
    "\n",
    "plt.title('Histogram of Total')\n",
    "plt.xlabel('Total')\n",
    "plt.ylabel('Frequency')\n",
    "\n",
    "plt.show()"
   ]
  },
  {
   "attachments": {},
   "cell_type": "markdown",
   "metadata": {},
   "source": [
    "From the histogram above, it means more than 90% vaccines were administered to children in Nigeria\n"
   ]
  },
  {
   "cell_type": "code",
   "execution_count": 48,
   "metadata": {},
   "outputs": [
    {
     "name": "stdout",
     "output_type": "stream",
     "text": [
      "Any        0.2\n",
      "Measles    0.2\n",
      "Penta 1    0.2\n",
      "Penta 2    0.2\n",
      "Penta 3    0.2\n",
      "Name: vaccine, dtype: float64\n"
     ]
    }
   ],
   "source": [
    "# Analysis of the `vaccine`column\n",
    "vaccine_proportions = df['vaccine'].value_counts(normalize=True)\n",
    "print(vaccine_proportions)"
   ]
  },
  {
   "attachments": {},
   "cell_type": "markdown",
   "metadata": {},
   "source": [
    "This indicates that the distribution of vaccines was evenly spread, and each vaccine type represents approximately 20% of the total"
   ]
  },
  {
   "cell_type": "code",
   "execution_count": 50,
   "metadata": {},
   "outputs": [
    {
     "name": "stdout",
     "output_type": "stream",
     "text": [
      "Abia                         0.05\n",
      "Adamawa                      0.05\n",
      "Kaduna                       0.05\n",
      "Jigawa                       0.05\n",
      "Imo                          0.05\n",
      "Gombe                        0.05\n",
      "Federal Capital Territory    0.05\n",
      "Enugu                        0.05\n",
      "Ekiti                        0.05\n",
      "Edo                          0.05\n",
      "Ebonyi                       0.05\n",
      "Delta                        0.05\n",
      "Cross River                  0.05\n",
      "Borno                        0.05\n",
      "Benue                        0.05\n",
      "Bayelsa                      0.05\n",
      "Bauchi                       0.05\n",
      "Anambra                      0.05\n",
      "Akwa Ibom                    0.05\n",
      "Kano                         0.05\n",
      "Name: state, dtype: float64\n"
     ]
    }
   ],
   "source": [
    "# Analysis of the `state` column\n",
    "state_proportions = df['state'].value_counts(normalize=True)\n",
    "print(state_proportions)\n"
   ]
  },
  {
   "attachments": {},
   "cell_type": "markdown",
   "metadata": {},
   "source": [
    "All the vaccines were distributed evenly among all the states, from the above analysis in proportion. "
   ]
  },
  {
   "attachments": {},
   "cell_type": "markdown",
   "metadata": {},
   "source": [
    "#### 2.3.2 Bivariate Analysis\n",
    "Bivariate analysis is the analysis of exactly two variables. We will use bivariate analysis to find relationships between two variables."
   ]
  },
  {
   "cell_type": "code",
   "execution_count": 70,
   "metadata": {},
   "outputs": [
    {
     "data": {
      "image/png": "[encoded data removed]",
      "text/plain": [
       "<Figure size 864x432 with 1 Axes>"
      ]
     },
     "metadata": {
      "needs_background": "light"
     },
     "output_type": "display_data"
    }
   ],
   "source": [
    "# Group the DataFrame by 'state' and calculate the mean of 'total' for each state\n",
    "state_totals = df.groupby('state')['total'].mean().sort_values(ascending=False)\n",
    "\n",
    "# Create a bar plot using the 'state_totals' Series\n",
    "state_totals.plot(kind='bar', figsize=(12,6))\n",
    "\n",
    "plt.title('Average Total % Vaccine by State')\n",
    "plt.xlabel('State')\n",
    "plt.ylabel('Average Total')\n",
    "\n",
    "plt.xticks(rotation=45)  # Rotate x-axis labels for better readability\n",
    "\n",
    "plt.show()"
   ]
  },
  {
   "attachments": {},
   "cell_type": "markdown",
   "metadata": {},
   "source": [
    "From the bar plot, we observe that the state that received the highest number of vaccines is 'Ekiti' and the least is 'Kano'"
   ]
  },
  {
   "cell_type": "code",
   "execution_count": 58,
   "metadata": {},
   "outputs": [
    {
     "data": {
      "image/png": "[encoded data removed]",
      "text/plain": [
       "<Figure size 432x288 with 1 Axes>"
      ]
     },
     "metadata": {
      "needs_background": "light"
     },
     "output_type": "display_data"
    }
   ],
   "source": [
    "#We are going to do the same with the `vaccine` column and the `total` column\n",
    "\n",
    "vaccine_totals = df.groupby('vaccine')['total'].mean()\n",
    "\n",
    "plt.bar(vaccine_totals.index, vaccine_totals.values)\n",
    "plt.title('Average Total by Vaccine')\n",
    "plt.xlabel('Vaccine')\n",
    "plt.ylabel('Average Total')\n",
    "\n",
    "plt.show()"
   ]
  },
  {
   "attachments": {},
   "cell_type": "markdown",
   "metadata": {},
   "source": [
    "The vaccine 'Any' was the most frequent vaccine administered to the children in total and 'Penta 3' was the least administered \n",
    "We can go the extra mile and find out, if it is the same case for every single state, let's take a look"
   ]
  },
  {
   "cell_type": "code",
   "execution_count": 96,
   "metadata": {},
   "outputs": [
    {
     "name": "stdout",
     "output_type": "stream",
     "text": [
      "Most Common Vaccine by State:\n",
      "state\n",
      "Abia                         Any\n",
      "Adamawa                      Any\n",
      "Akwa Ibom                    Any\n",
      "Anambra                      Any\n",
      "Bauchi                       Any\n",
      "Bayelsa                      Any\n",
      "Benue                        Any\n",
      "Borno                        Any\n",
      "Cross River                  Any\n",
      "Delta                        Any\n",
      "Ebonyi                       Any\n",
      "Edo                          Any\n",
      "Ekiti                        Any\n",
      "Enugu                        Any\n",
      "Federal Capital Territory    Any\n",
      "Gombe                        Any\n",
      "Imo                          Any\n",
      "Jigawa                       Any\n",
      "Kaduna                       Any\n",
      "Kano                         Any\n",
      "Name: vaccine, dtype: object\n"
     ]
    }
   ],
   "source": [
    "# Most common vaccine by state\n",
    "most_common_vaccine = df.groupby('state')['vaccine'].agg(lambda x: x.value_counts().index[0])\n",
    "print(\"Most Common Vaccine by State:\")\n",
    "print(most_common_vaccine)\n"
   ]
  },
  {
   "cell_type": "code",
   "execution_count": 97,
   "metadata": {},
   "outputs": [
    {
     "name": "stdout",
     "output_type": "stream",
     "text": [
      "Least Common Vaccine by State:\n",
      "state\n",
      "Abia                         Penta 3\n",
      "Adamawa                      Penta 3\n",
      "Akwa Ibom                    Penta 3\n",
      "Anambra                      Penta 3\n",
      "Bauchi                       Penta 3\n",
      "Bayelsa                      Penta 3\n",
      "Benue                        Penta 3\n",
      "Borno                        Penta 3\n",
      "Cross River                  Penta 3\n",
      "Delta                        Penta 3\n",
      "Ebonyi                       Penta 3\n",
      "Edo                          Penta 3\n",
      "Ekiti                        Penta 3\n",
      "Enugu                        Penta 3\n",
      "Federal Capital Territory    Penta 3\n",
      "Gombe                        Penta 3\n",
      "Imo                          Penta 3\n",
      "Jigawa                       Penta 3\n",
      "Kaduna                       Penta 3\n",
      "Kano                         Penta 3\n",
      "Name: vaccine, dtype: object\n"
     ]
    }
   ],
   "source": [
    "# Least common vaccine by state\n",
    "least_common_vaccine = df.groupby('state')['vaccine'].agg(lambda x: x.value_counts().index[-1])\n",
    "print(\"Least Common Vaccine by State:\")\n",
    "print(least_common_vaccine)"
   ]
  },
  {
   "attachments": {},
   "cell_type": "markdown",
   "metadata": {},
   "source": [
    "Wow! It is exactly the same output for all the states, we will have to do research and find out why this is the case"
   ]
  },
  {
   "attachments": {},
   "cell_type": "markdown",
   "metadata": {},
   "source": [
    "Let us then go ahead to do a statistical analysis of the highest and lowest vaccination rates per state, we are going to group the dataframe by the 'state' column and the find the maximum and minimum values of the 'total' columns of each unique state"
   ]
  },
  {
   "cell_type": "code",
   "execution_count": 82,
   "metadata": {},
   "outputs": [
    {
     "name": "stdout",
     "output_type": "stream",
     "text": [
      "state\n",
      "Ekiti                        98.5\n",
      "Imo                          96.2\n",
      "Anambra                      96.2\n",
      "Abia                         95.5\n",
      "Edo                          95.3\n",
      "Enugu                        94.9\n",
      "Ebonyi                       94.0\n",
      "Delta                        93.8\n",
      "Cross River                  89.4\n",
      "Federal Capital Territory    89.0\n",
      "Benue                        84.4\n",
      "Kaduna                       83.6\n",
      "Adamawa                      83.5\n",
      "Akwa Ibom                    83.5\n",
      "Bayelsa                      76.7\n",
      "Jigawa                       72.7\n",
      "Gombe                        69.7\n",
      "Borno                        66.7\n",
      "Bauchi                       65.9\n",
      "Kano                         63.3\n",
      "Name: total, dtype: float64\n"
     ]
    }
   ],
   "source": [
    "# The highest vaccination rate by finding the maximum value in the total column\n",
    "# We are going to group them by state and total columns\n",
    "\n",
    "highest_vaccination_rate = df.groupby('state')['total'].max()\n",
    "highest_vaccination_rate_sorted = highest_vaccination_rate.sort_values(ascending=False)\n",
    "print(highest_vaccination_rate_sorted)"
   ]
  },
  {
   "attachments": {},
   "cell_type": "markdown",
   "metadata": {},
   "source": [
    "For the highest vaccination rates, the analysis identified the states with the highest rates and provided their corresponding vaccination rates. The highest rates was 98.5 in Ekiti "
   ]
  },
  {
   "cell_type": "code",
   "execution_count": 90,
   "metadata": {},
   "outputs": [
    {
     "name": "stdout",
     "output_type": "stream",
     "text": [
      "state\n",
      "Kano       36.1\n",
      "Jigawa     38.0\n",
      "Benue      40.6\n",
      "Bauchi     41.5\n",
      "Bayelsa    41.7\n",
      "Name: total, dtype: float64\n"
     ]
    }
   ],
   "source": [
    "# The lowest vaccination rate by finding the minimum value in the total column\n",
    "# We are going to group them by state and total columns\n",
    "\n",
    "lowest_vaccination_rate = df.groupby('state')['total'].min()\n",
    "#lowest_vaccination_rate\n",
    "lowest_vaccination_rate_sorted = lowest_vaccination_rate.sort_values()\n",
    "print(lowest_vaccination_rate_sorted[:5])"
   ]
  },
  {
   "attachments": {},
   "cell_type": "markdown",
   "metadata": {},
   "source": [
    "Similarly, for the lowest vaccination rates, the analysis identified the states with the lowest rates and provided their corresponding vaccination rates. The lowest rates ranged from 36.1 in Kano to 41.5 in Bauchi. This information helps us identify the states that need more focus and support to improve their vaccination rates."
   ]
  },
  {
   "attachments": {},
   "cell_type": "markdown",
   "metadata": {},
   "source": [
    "#### 2.3.3 Multivariate Analysis\n",
    "This is the analysis of more than 2 variables at the same ime and finding out if they are correlated"
   ]
  },
  {
   "attachments": {},
   "cell_type": "markdown",
   "metadata": {},
   "source": [
    "A grouped bar chart to compare the total values for each vaccine category across different states. Each bar represents a state, and within each bar, there are grouped bars representing the total values for each vaccine category."
   ]
  },
  {
   "cell_type": "code",
   "execution_count": 98,
   "metadata": {},
   "outputs": [
    {
     "data": {
      "image/png": "[encoded data removed]",
      "text/plain": [
       "<Figure size 864x432 with 1 Axes>"
      ]
     },
     "metadata": {
      "needs_background": "light"
     },
     "output_type": "display_data"
    }
   ],
   "source": [
    "\n",
    "\n",
    "plt.figure(figsize=(12, 6))  # Set the size of the plot\n",
    "\n",
    "sns.barplot(data=df, x='state', y='total', hue='vaccine')\n",
    "\n",
    "plt.title('Total % of children vaccinated by State and Vaccine')\n",
    "plt.xlabel('State')\n",
    "plt.ylabel('Total')\n",
    "\n",
    "plt.xticks(rotation=45)\n",
    "\n",
    "plt.legend(title='Vaccine', bbox_to_anchor=(1, 1))\n",
    "plt.tight_layout()\n",
    "\n",
    "plt.show()\n"
   ]
  },
  {
   "attachments": {},
   "cell_type": "markdown",
   "metadata": {},
   "source": [
    "From the grouped bar chart, we see that Ekiti is still in the lead of the all the states that has the highest percentage of children who have been vaccinated"
   ]
  },
  {
   "attachments": {},
   "cell_type": "markdown",
   "metadata": {},
   "source": [
    "# 3. Data Report\n",
    "The following is a summary of the data  exploration and analysis;\n",
    "1. The 'Any' was the modal vaccine administered in Nigeria in 2018 in all of the states\n",
    "2. Similarly, the least administered vaccine was 'Penta 3' for all the states. \n",
    "3. The state that had the highest vaccination rates was \"Ekiti\" with 98.5 rate \n",
    "4. The lowest vaccination rate was from \"Kano\" with 36.1\n",
    "5. The vaccines were all distributed equally and evenly spread among the states."
   ]
  },
  {
   "attachments": {},
   "cell_type": "markdown",
   "metadata": {},
   "source": [
    "Now let's go ahead and do some research gain insights why. "
   ]
  }
 ],
 "metadata": {
  "kernelspec": {
   "display_name": "Python 3",
   "language": "python",
   "name": "python3"
  },
  "language_info": {
   "codemirror_mode": {
    "name": "ipython",
    "version": 3
   },
   "file_extension": ".py",
   "mimetype": "text/x-python",
   "name": "python",
   "nbconvert_exporter": "python",
   "pygments_lexer": "ipython3",
   "version": "3.8.5"
  }
 },
 "nbformat": 4,
 "nbformat_minor": 2
}
