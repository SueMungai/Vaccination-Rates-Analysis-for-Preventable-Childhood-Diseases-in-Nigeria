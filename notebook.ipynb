{
 "cells": [
  {
   "cell_type": "code",
   "execution_count": 10,
   "metadata": {},
   "outputs": [],
   "source": [
    "import requests\n",
    "import json\n",
    "import pandas as pd\n"
   ]
  },
  {
   "cell_type": "code",
   "execution_count": 13,
   "metadata": {},
   "outputs": [
    {
     "name": "stdout",
     "output_type": "stream",
     "text": [
      "    _id state  vaccine  total\n",
      "0     1  Abia      Any   95.5\n",
      "1     2  Abia  Measles   86.4\n",
      "2     3  Abia  Penta 1   95.5\n",
      "3     4  Abia  Penta 2   90.9\n",
      "4     5  Abia  Penta 3   86.4\n",
      "..  ...   ...      ...    ...\n",
      "95   96  Kano      Any   63.3\n",
      "96   97  Kano  Measles   49.0\n",
      "97   98  Kano  Penta 1   55.1\n",
      "98   99  Kano  Penta 2   47.6\n",
      "99  100  Kano  Penta 3   36.1\n",
      "\n",
      "[100 rows x 4 columns]\n"
     ]
    }
   ],
   "source": [
    "#the url provided to access the data \n",
    "url = 'https://openafrica.net/api/3/action/datastore_search?resource_id=e2bcc139-4c7a-4096-945b-912a0f8b5385'\n",
    "response = requests.get(url)\n",
    "data = response.json()\n",
    "\n",
    "records = data['result']['records']\n",
    "\n",
    "df = pd.DataFrame(records)\n",
    "\n",
    "# Print the DataFrame\n",
    "print(df)"
   ]
  },
  {
   "cell_type": "code",
   "execution_count": null,
   "metadata": {},
   "outputs": [],
   "source": []
  },
  {
   "cell_type": "code",
   "execution_count": null,
   "metadata": {},
   "outputs": [],
   "source": []
  }
 ],
 "metadata": {
  "kernelspec": {
   "display_name": "base",
   "language": "python",
   "name": "python3"
  },
  "language_info": {
   "codemirror_mode": {
    "name": "ipython",
    "version": 3
   },
   "file_extension": ".py",
   "mimetype": "text/x-python",
   "name": "python",
   "nbconvert_exporter": "python",
   "pygments_lexer": "ipython3",
   "version": "3.9.12"
  },
  "orig_nbformat": 4
 },
 "nbformat": 4,
 "nbformat_minor": 2
}
